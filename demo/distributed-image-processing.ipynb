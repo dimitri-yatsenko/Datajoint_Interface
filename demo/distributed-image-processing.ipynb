{
 "cells": [
  {
   "cell_type": "markdown",
   "metadata": {},
   "source": [
    "# Demo of work with microscopy data with DataJoint\n",
    "The project is hosted at https://github.com/ActiveBrainAtlas/Orofacial_Collaboration\n",
    "\n",
    "The project uses cloud store using a relational datababase and S3 for bulk storage."
   ]
  },
  {
   "cell_type": "code",
   "execution_count": 1,
   "metadata": {},
   "outputs": [],
   "source": [
    "%matplotlib inline\n",
    "from matplotlib import pyplot as plt\n",
    "import matplotlib\n",
    "import numpy as np\n",
    "\n",
    "import tempfile\n",
    "import datajoint as dj\n",
    "from minio import Minio\n",
    "from os import path\n",
    "import json\n",
    "import re"
   ]
  },
  {
   "cell_type": "markdown",
   "metadata": {},
   "source": [
    "`glymur` is the Python API for OpenJPEG. The installation instructions are at https://glymur.readthedocs.io/en/latest/detailed_installation.html\n",
    "\n",
    "It requires installing openjpeg.\n",
    "\n",
    "If you use `brew` on MacOS, then the installation can be done as:\n",
    "```shell\n",
    "$ brew install openjpeg\n",
    "$ pip install glymur\n",
    "```"
   ]
  },
  {
   "cell_type": "code",
   "execution_count": 2,
   "metadata": {},
   "outputs": [],
   "source": [
    "import glymur"
   ]
  },
  {
   "cell_type": "code",
   "execution_count": 3,
   "metadata": {},
   "outputs": [
    {
     "name": "stdout",
     "output_type": "stream",
     "text": [
      "Connecting dimitri@ucsd-demo-db.datajoint.io:3306\n"
     ]
    }
   ],
   "source": [
    "schema = dj.schema('common_distributed')   # please replace it with your database "
   ]
  },
  {
   "cell_type": "code",
   "execution_count": 4,
   "metadata": {},
   "outputs": [],
   "source": [
    "def get_s3_client():\n",
    "    with open('s3-creds.json') as f:\n",
    "        creds = json.load(f)\n",
    "    return Minio('s3.amazonaws.com', secure=True, **creds)"
   ]
  },
  {
   "cell_type": "code",
   "execution_count": 5,
   "metadata": {},
   "outputs": [],
   "source": [
    "@schema\n",
    "class BaseImage(dj.Manual):\n",
    "    definition = '''\n",
    "    image_id:          int            # image id\n",
    "    ---\n",
    "    image_location:    varchar(1024)  # image location in bucket\n",
    "    filesize : bigint  # (bytes)\n",
    "    '''\n",
    "    \n",
    "    bucket_name = 'mousebraindata-open'\n",
    "    \n",
    "    @classmethod\n",
    "    def fill(cls):   \n",
    "        \"\"\"\n",
    "        fill the image list from the bucket\n",
    "        \"\"\"\n",
    "        client = get_s3_client()\n",
    "        objects = client.list_objects(BaseImage.bucket_name, prefix='MD657/')\n",
    "        cls.insert(\n",
    "            dict(image_id=i, image_location=obj.object_name, filesize=obj.size) \n",
    "            for i, obj in enumerate(objects) if obj.object_name.endswith('.jp2'))"
   ]
  },
  {
   "cell_type": "code",
   "execution_count": null,
   "metadata": {},
   "outputs": [],
   "source": [
    "if not BaseImage(): \n",
    "    # load directory from the repository\n",
    "    BaseImage.fill()"
   ]
  },
  {
   "cell_type": "code",
   "execution_count": null,
   "metadata": {},
   "outputs": [],
   "source": [
    "@schema\n",
    "class BaseProperties(dj.Computed):\n",
    "    definition = \"\"\"\n",
    "    # Image properties inferred from file name\n",
    "    -> BaseImage\n",
    "    ---\n",
    "    prep : varchar(16)\n",
    "    image_datetime : datetime\n",
    "    letter_number : char(8)\n",
    "    major : smallint\n",
    "    minor : smallint\n",
    "    lossy : bool\n",
    "    \"\"\"\n",
    "    def make(self, key):\n",
    "        path = (BaseImage & key).fetch1('image_location')\n",
    "        match = re.match(\n",
    "            r'(?P<prep>\\w*)/(?P=prep)-(?P<letter_number>\\w*)-'\n",
    "            r'(?P<date>\\d{4}\\.\\d\\d\\.\\d\\d)-(?P<time>\\d\\d\\.\\d\\d\\.\\d\\d)_(?P=prep)_'\n",
    "            r'(?P<major>\\d+)_(?P<minor>\\d+)_(?P<lossy>(lossy|lossless))\\.jp2', path).groupdict()\n",
    "        match['image_datetime'] = str.replace(match['date'], '.', '-') + ' ' + str.replace(match['time'], '.', ':')\n",
    "        match['lossy'] = match['lossy'] == 'lossy' \n",
    "        self.insert1(dict(key, **match),  ignore_extra_fields=True)"
   ]
  },
  {
   "cell_type": "code",
   "execution_count": null,
   "metadata": {},
   "outputs": [],
   "source": [
    "BaseProperties.populate(display_progress=True)"
   ]
  },
  {
   "cell_type": "code",
   "execution_count": null,
   "metadata": {},
   "outputs": [],
   "source": [
    "BaseProperties * BaseImage & {'lossy': True}"
   ]
  },
  {
   "cell_type": "code",
   "execution_count": null,
   "metadata": {},
   "outputs": [],
   "source": [
    "@schema\n",
    "class Thumbnail(dj.Imported):\n",
    "    definition = \"\"\"\n",
    "    # Downsampled images from BaseImage\n",
    "    -> BaseProperties\n",
    "    ---\n",
    "    image_width :  int  # (Voxels) original image width \n",
    "    image_height :  int  # (voxels) original image height\n",
    "    image_depth : int # (voxels) original image depth (e.g. 3 for RGB)\n",
    "    downsample : smallint  \n",
    "    thumbnail : longblob\n",
    "    \"\"\"\n",
    "    \n",
    "    def make(self, key):\n",
    "        path = (BaseImage & key).fetch1('image_location')\n",
    "        client = get_s3_client()\n",
    "        data = client.get_object(BaseImage.bucket_name, path).data\n",
    "        f = tempfile.NamedTemporaryFile(delete=False)\n",
    "        f.write(data)\n",
    "        f.close()\n",
    "        img = glymur.Jp2k(f.name)\n",
    "        d = 32\n",
    "        self.insert1(dict(\n",
    "            key, \n",
    "            **dict(zip(('image_height', 'image_width', 'image_depth'), img.shape)), \n",
    "            downsample=d, thumbnail=np.uint8(np.maximum(0, np.minimum(255, img[::d, ::d, :])))))"
   ]
  },
  {
   "cell_type": "code",
   "execution_count": null,
   "metadata": {},
   "outputs": [],
   "source": [
    "dj.ERD(schema)"
   ]
  },
  {
   "cell_type": "code",
   "execution_count": null,
   "metadata": {},
   "outputs": [],
   "source": [
    "Thumbnail.populate('lossy=1', display_progress=True, reserve_jobs=True, limit=3)"
   ]
  },
  {
   "cell_type": "code",
   "execution_count": null,
   "metadata": {},
   "outputs": [],
   "source": [
    "schema.jobs"
   ]
  },
  {
   "cell_type": "code",
   "execution_count": null,
   "metadata": {},
   "outputs": [],
   "source": [
    "Thumbnail()"
   ]
  },
  {
   "cell_type": "code",
   "execution_count": null,
   "metadata": {},
   "outputs": [],
   "source": [
    "fig, ax = plt.subplots(4, 3, figsize=(12,16))\n",
    "for a, thumb in zip(ax.flatten(), Thumbnail()):\n",
    "    a.imshow(np.maximum(0, np.minimum(255, thumb['thumbnail'])))"
   ]
  },
  {
   "cell_type": "code",
   "execution_count": null,
   "metadata": {},
   "outputs": [],
   "source": []
  }
 ],
 "metadata": {
  "kernelspec": {
   "display_name": "Python 3",
   "language": "python",
   "name": "python3"
  },
  "language_info": {
   "codemirror_mode": {
    "name": "ipython",
    "version": 3
   },
   "file_extension": ".py",
   "mimetype": "text/x-python",
   "name": "python",
   "nbconvert_exporter": "python",
   "pygments_lexer": "ipython3",
   "version": "3.7.1"
  }
 },
 "nbformat": 4,
 "nbformat_minor": 2
}
